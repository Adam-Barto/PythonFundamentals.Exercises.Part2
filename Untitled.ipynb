{
 "cells": [
  {
   "cell_type": "code",
   "execution_count": 1,
   "id": "85de74cf-09e4-4961-81d0-83e42485893a",
   "metadata": {},
   "outputs": [
    {
     "name": "stdout",
     "output_type": "stream",
     "text": [
      "Adam\n",
      "Darth Vador\n",
      "Guido van Rossum\n"
     ]
    }
   ],
   "source": [
    "def greet(name):\n",
    "    print(name)\n",
    "    \n",
    "greet('Adam')\n",
    "greet('Darth Vador')\n",
    "greet('Guido van Rossum')"
   ]
  },
  {
   "cell_type": "code",
   "execution_count": null,
   "id": "d55cb169-20cd-4dc0-a835-c9615d6d6ed2",
   "metadata": {},
   "outputs": [],
   "source": []
  }
 ],
 "metadata": {
  "kernelspec": {
   "display_name": "Python 3 (ipykernel)",
   "language": "python",
   "name": "python3"
  },
  "language_info": {
   "codemirror_mode": {
    "name": "ipython",
    "version": 3
   },
   "file_extension": ".py",
   "mimetype": "text/x-python",
   "name": "python",
   "nbconvert_exporter": "python",
   "pygments_lexer": "ipython3",
   "version": "3.9.13"
  }
 },
 "nbformat": 4,
 "nbformat_minor": 5
}
